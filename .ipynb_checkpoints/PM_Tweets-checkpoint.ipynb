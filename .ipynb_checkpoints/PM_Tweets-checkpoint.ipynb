{
 "cells": [
  {
   "cell_type": "code",
   "execution_count": 10,
   "id": "0dd2d98e",
   "metadata": {},
   "outputs": [],
   "source": [
    "# Importing the requirements\n",
    "import tweepy \n",
    "import pandas as pd\n",
    "import numpy as np\n",
    "from IPython.display import display \n",
    "import matplotlib.pyplot as plt\n",
    "import seaborn as sns \n",
    "from textblob import TextBlob\n",
    "import re\n",
    "import warnings\n",
    "warnings.filterwarnings('ignore')\n",
    "%matplotlib inline"
   ]
  },
  {
   "cell_type": "code",
   "execution_count": 11,
   "id": "26a21cf5",
   "metadata": {},
   "outputs": [],
   "source": [
    "# Credentials\n",
    "consumer_key = \"qWF2rE0dec6LxvAZPb7i9g6FA\"\n",
    "consumer_secret = \"TYJafyXjqQqP2tpNLUfXnuLosWloMQ0ZqAt8jFIWmHwxT5Nmv6\"\n",
    "\n",
    "access_key = \"2726160288-fmXj24icgK2MrK1NjJLoScTwxuZuy3GPBulZ92j\"\n",
    "access_secret = \"BK8HbvERk2jef2jBbOIlhb0WNbYETWztC7Y9rTbv5iizj\""
   ]
  },
  {
   "cell_type": "code",
   "execution_count": 12,
   "id": "628d2831",
   "metadata": {},
   "outputs": [],
   "source": [
    "def twitter_setup():\n",
    "    auth=tweepy.OAuthHandler(consumer_key, consumer_secret)\n",
    "    auth.set_access_token(access_key, access_secret)\n",
    "    \n",
    "    api = tweepy.API(auth)\n",
    "    return api"
   ]
  },
  {
   "cell_type": "code",
   "execution_count": 15,
   "id": "2ee92890",
   "metadata": {},
   "outputs": [
    {
     "name": "stdout",
     "output_type": "stream",
     "text": [
      "Getting tweets before 1384790325193973766\n",
      "Number of Tweets have been downloaded so far: 400\n",
      "Getting tweets before 1377909255689306112\n",
      "Number of Tweets have been downloaded so far: 600\n",
      "Getting tweets before 1370341049860644869\n",
      "Number of Tweets have been downloaded so far: 800\n",
      "Getting tweets before 1363407765675397119\n",
      "Number of Tweets have been downloaded so far: 1000\n",
      "Getting tweets before 1354464374535020543\n",
      "Number of Tweets have been downloaded so far: 1200\n",
      "Getting tweets before 1348973291311140863\n",
      "Number of Tweets have been downloaded so far: 1400\n",
      "Getting tweets before 1341025847902261248\n",
      "Number of Tweets have been downloaded so far: 1600\n",
      "Getting tweets before 1330854740410830847\n",
      "Number of Tweets have been downloaded so far: 1800\n",
      "Getting tweets before 1323947986037035013\n",
      "Number of Tweets have been downloaded so far: 2000\n",
      "Getting tweets before 1318205444549013504\n",
      "Number of Tweets have been downloaded so far: 2200\n",
      "Getting tweets before 1309864809391775743\n",
      "Number of Tweets have been downloaded so far: 2400\n",
      "Getting tweets before 1306585876554633215\n",
      "Number of Tweets have been downloaded so far: 2600\n",
      "Getting tweets before 1302836032916783104\n",
      "Number of Tweets have been downloaded so far: 2800\n",
      "Getting tweets before 1292066462761250817\n",
      "Number of Tweets have been downloaded so far: 3000\n",
      "Getting tweets before 1279454646600253440\n",
      "Number of Tweets have been downloaded so far: 3200\n",
      "Getting tweets before 1266965118505545727\n",
      "Number of Tweets have been downloaded so far: 3250\n",
      "Getting tweets before 1263130061265305602\n",
      "Number of Tweets have been downloaded so far: 3250\n",
      "5 recent Tweets\n",
      "विकास और पर्यावरण में संतुलन हमारी पुरातन परंपरा का एक अहम हिस्सा है, जिसे हम आत्मनिर्भर भारत की भी ताकत बना रहे… https://t.co/OejwgZQvnQ\n",
      "\n",
      "जलवायु परिवर्तन के खतरे से निपटने के लिए जो वैश्विक प्रयास चल रहे हैं, उनमें भारत एक नई रोशनी बनकर उभरा है।\n",
      "\n",
      "जिस भा… https://t.co/mPOVkIBJgE\n",
      "\n",
      "आज से 7-8 साल पहले देश में इथेनॉल की कभी उतनी चर्चा नहीं होती थी। लेकिन अब इथेनॉल 21वीं सदी के भारत की बड़ी प्राथमि… https://t.co/4DlSo7siaT\n",
      "\n",
      "हरदोई के अरविंद कुमार जी ने बताया कि वैज्ञानिक विधि से खेती करने से न केवल गन्ने का उत्पादन तीन गुना बढ़ा है, बल्कि… https://t.co/m29p5Nj3sy\n",
      "\n",
      "आणंद के अमित कुमार प्रजापति जी को बायोगैस प्लांट से कई प्रकार के लाभ हुए हैं। स्वच्छता भी और कमाई भी…… https://t.co/8ixRJzxmnp\n",
      "\n"
     ]
    }
   ],
   "source": [
    "# Twitter handle\n",
    "screen_name=\"narendramodi\"\n",
    "\n",
    "def get_all_tweets(screen_name):\n",
    "    \n",
    "    # Authentication and access using keys:\n",
    "    auth=tweepy.OAuthHandler(consumer_key, consumer_secret)\n",
    "    auth.set_access_token(access_key, access_secret)\n",
    "    \n",
    "    # Return API with authentication:\n",
    "    api=tweepy.API(auth)\n",
    "    \n",
    "    tweets=[]\n",
    "    new_tweets=api.user_timeline(screen_name=screen_name, count=200)\n",
    "    tweets.extend(new_tweets)\n",
    "    \n",
    "    oldest=tweets[-1].id-1\n",
    "    \n",
    "    while len(new_tweets)>0:\n",
    "        print(f\"Getting tweets before {oldest}\")\n",
    "        #all request will include oldest parameter to exclude the chances of the duplicates \n",
    "        new_tweets=api.user_timeline(screen_name=screen_name, count=200, max_id=oldest)\n",
    "        tweets.extend(new_tweets)\n",
    "        oldest=tweets[-1].id-1\n",
    "        print(f\"Number of Tweets have been downloaded so far: {len(tweets)}\")\n",
    "    \n",
    "    return tweets\n",
    "\n",
    "tweets=get_all_tweets(screen_name)\n",
    "print(\"5 recent Tweets\")\n",
    "for tweet in tweets[:5]:\n",
    "    print(tweet.text)\n",
    "    print()"
   ]
  },
  {
   "cell_type": "code",
   "execution_count": 16,
   "id": "7bab1cec",
   "metadata": {},
   "outputs": [
    {
     "data": {
      "text/html": [
       "<div>\n",
       "<style scoped>\n",
       "    .dataframe tbody tr th:only-of-type {\n",
       "        vertical-align: middle;\n",
       "    }\n",
       "\n",
       "    .dataframe tbody tr th {\n",
       "        vertical-align: top;\n",
       "    }\n",
       "\n",
       "    .dataframe thead th {\n",
       "        text-align: right;\n",
       "    }\n",
       "</style>\n",
       "<table border=\"1\" class=\"dataframe\">\n",
       "  <thead>\n",
       "    <tr style=\"text-align: right;\">\n",
       "      <th></th>\n",
       "      <th>Tweets</th>\n",
       "    </tr>\n",
       "  </thead>\n",
       "  <tbody>\n",
       "    <tr>\n",
       "      <th>0</th>\n",
       "      <td>विकास और पर्यावरण में संतुलन हमारी पुरातन परंप...</td>\n",
       "    </tr>\n",
       "    <tr>\n",
       "      <th>1</th>\n",
       "      <td>जलवायु परिवर्तन के खतरे से निपटने के लिए जो वै...</td>\n",
       "    </tr>\n",
       "    <tr>\n",
       "      <th>2</th>\n",
       "      <td>आज से 7-8 साल पहले देश में इथेनॉल की कभी उतनी ...</td>\n",
       "    </tr>\n",
       "    <tr>\n",
       "      <th>3</th>\n",
       "      <td>हरदोई के अरविंद कुमार जी ने बताया कि वैज्ञानिक...</td>\n",
       "    </tr>\n",
       "    <tr>\n",
       "      <th>4</th>\n",
       "      <td>आणंद के अमित कुमार प्रजापति जी को बायोगैस प्ला...</td>\n",
       "    </tr>\n",
       "    <tr>\n",
       "      <th>5</th>\n",
       "      <td>पुणे के बालू नाथू वाघमारे जी ने बताया कि किस प...</td>\n",
       "    </tr>\n",
       "    <tr>\n",
       "      <th>6</th>\n",
       "      <td>Addressing a programme on #WorldEnvironmentDay...</td>\n",
       "    </tr>\n",
       "    <tr>\n",
       "      <th>7</th>\n",
       "      <td>Reviewed India's vaccination drive including t...</td>\n",
       "    </tr>\n",
       "    <tr>\n",
       "      <th>8</th>\n",
       "      <td>At 11 AM tomorrow, 5th June will take part in ...</td>\n",
       "    </tr>\n",
       "    <tr>\n",
       "      <th>9</th>\n",
       "      <td>I called @MauritiusPM Pravind Jugnauth to conv...</td>\n",
       "    </tr>\n",
       "  </tbody>\n",
       "</table>\n",
       "</div>"
      ],
      "text/plain": [
       "                                              Tweets\n",
       "0  विकास और पर्यावरण में संतुलन हमारी पुरातन परंप...\n",
       "1  जलवायु परिवर्तन के खतरे से निपटने के लिए जो वै...\n",
       "2  आज से 7-8 साल पहले देश में इथेनॉल की कभी उतनी ...\n",
       "3  हरदोई के अरविंद कुमार जी ने बताया कि वैज्ञानिक...\n",
       "4  आणंद के अमित कुमार प्रजापति जी को बायोगैस प्ला...\n",
       "5  पुणे के बालू नाथू वाघमारे जी ने बताया कि किस प...\n",
       "6  Addressing a programme on #WorldEnvironmentDay...\n",
       "7  Reviewed India's vaccination drive including t...\n",
       "8  At 11 AM tomorrow, 5th June will take part in ...\n",
       "9  I called @MauritiusPM Pravind Jugnauth to conv..."
      ]
     },
     "metadata": {},
     "output_type": "display_data"
    }
   ],
   "source": [
    "# Shaping the data\n",
    "data=pd.DataFrame(data=[tweet.text for tweet in tweets], columns=['Tweets'])\n",
    "display(data.head(10))"
   ]
  },
  {
   "cell_type": "code",
   "execution_count": 17,
   "id": "b64ee746",
   "metadata": {},
   "outputs": [
    {
     "name": "stdout",
     "output_type": "stream",
     "text": [
      "['__class__', '__delattr__', '__dict__', '__dir__', '__doc__', '__eq__', '__format__', '__ge__', '__getattribute__', '__getstate__', '__gt__', '__hash__', '__init__', '__init_subclass__', '__le__', '__lt__', '__module__', '__ne__', '__new__', '__reduce__', '__reduce_ex__', '__repr__', '__setattr__', '__sizeof__', '__str__', '__subclasshook__', '__weakref__', '_api', '_json', 'author', 'contributors', 'coordinates', 'created_at', 'destroy', 'entities', 'favorite', 'favorite_count', 'favorited', 'geo', 'id', 'id_str', 'in_reply_to_screen_name', 'in_reply_to_status_id', 'in_reply_to_status_id_str', 'in_reply_to_user_id', 'in_reply_to_user_id_str', 'is_quote_status', 'lang', 'parse', 'parse_list', 'place', 'possibly_sensitive', 'retweet', 'retweet_count', 'retweeted', 'retweets', 'source', 'source_url', 'text', 'truncated', 'user']\n"
     ]
    }
   ],
   "source": [
    "# Components of the tweet\n",
    "print(dir(tweets[0]))"
   ]
  },
  {
   "cell_type": "code",
   "execution_count": 18,
   "id": "cf2a0a08",
   "metadata": {},
   "outputs": [
    {
     "data": {
      "text/html": [
       "<div>\n",
       "<style scoped>\n",
       "    .dataframe tbody tr th:only-of-type {\n",
       "        vertical-align: middle;\n",
       "    }\n",
       "\n",
       "    .dataframe tbody tr th {\n",
       "        vertical-align: top;\n",
       "    }\n",
       "\n",
       "    .dataframe thead th {\n",
       "        text-align: right;\n",
       "    }\n",
       "</style>\n",
       "<table border=\"1\" class=\"dataframe\">\n",
       "  <thead>\n",
       "    <tr style=\"text-align: right;\">\n",
       "      <th></th>\n",
       "      <th>Tweets</th>\n",
       "      <th>Length</th>\n",
       "      <th>ID</th>\n",
       "      <th>Date</th>\n",
       "      <th>Source</th>\n",
       "      <th>Likes</th>\n",
       "      <th>RTs</th>\n",
       "    </tr>\n",
       "  </thead>\n",
       "  <tbody>\n",
       "    <tr>\n",
       "      <th>0</th>\n",
       "      <td>विकास और पर्यावरण में संतुलन हमारी पुरातन परंप...</td>\n",
       "      <td>137</td>\n",
       "      <td>1401099385824440322</td>\n",
       "      <td>2021-06-05 08:51:39</td>\n",
       "      <td>Twitter Media Studio</td>\n",
       "      <td>20571</td>\n",
       "      <td>4064</td>\n",
       "    </tr>\n",
       "    <tr>\n",
       "      <th>1</th>\n",
       "      <td>जलवायु परिवर्तन के खतरे से निपटने के लिए जो वै...</td>\n",
       "      <td>140</td>\n",
       "      <td>1401099327217356801</td>\n",
       "      <td>2021-06-05 08:51:25</td>\n",
       "      <td>Twitter Media Studio</td>\n",
       "      <td>13247</td>\n",
       "      <td>2997</td>\n",
       "    </tr>\n",
       "    <tr>\n",
       "      <th>2</th>\n",
       "      <td>आज से 7-8 साल पहले देश में इथेनॉल की कभी उतनी ...</td>\n",
       "      <td>140</td>\n",
       "      <td>1401099232501661700</td>\n",
       "      <td>2021-06-05 08:51:02</td>\n",
       "      <td>Twitter Media Studio</td>\n",
       "      <td>12702</td>\n",
       "      <td>2989</td>\n",
       "    </tr>\n",
       "    <tr>\n",
       "      <th>3</th>\n",
       "      <td>हरदोई के अरविंद कुमार जी ने बताया कि वैज्ञानिक...</td>\n",
       "      <td>140</td>\n",
       "      <td>1401098876422025220</td>\n",
       "      <td>2021-06-05 08:49:37</td>\n",
       "      <td>Twitter Media Studio</td>\n",
       "      <td>12769</td>\n",
       "      <td>2919</td>\n",
       "    </tr>\n",
       "    <tr>\n",
       "      <th>4</th>\n",
       "      <td>आणंद के अमित कुमार प्रजापति जी को बायोगैस प्ला...</td>\n",
       "      <td>126</td>\n",
       "      <td>1401098804250615809</td>\n",
       "      <td>2021-06-05 08:49:20</td>\n",
       "      <td>Twitter Media Studio</td>\n",
       "      <td>9641</td>\n",
       "      <td>2588</td>\n",
       "    </tr>\n",
       "    <tr>\n",
       "      <th>5</th>\n",
       "      <td>पुणे के बालू नाथू वाघमारे जी ने बताया कि किस प...</td>\n",
       "      <td>139</td>\n",
       "      <td>1401098674407542784</td>\n",
       "      <td>2021-06-05 08:48:49</td>\n",
       "      <td>Twitter Media Studio</td>\n",
       "      <td>14150</td>\n",
       "      <td>2969</td>\n",
       "    </tr>\n",
       "    <tr>\n",
       "      <th>6</th>\n",
       "      <td>Addressing a programme on #WorldEnvironmentDay...</td>\n",
       "      <td>92</td>\n",
       "      <td>1401053150841167874</td>\n",
       "      <td>2021-06-05 05:47:56</td>\n",
       "      <td>Twitter Media Studio</td>\n",
       "      <td>21869</td>\n",
       "      <td>4681</td>\n",
       "    </tr>\n",
       "    <tr>\n",
       "      <th>7</th>\n",
       "      <td>Reviewed India's vaccination drive including t...</td>\n",
       "      <td>139</td>\n",
       "      <td>1400839416013275137</td>\n",
       "      <td>2021-06-04 15:38:37</td>\n",
       "      <td>Twitter for iPhone</td>\n",
       "      <td>35849</td>\n",
       "      <td>5411</td>\n",
       "    </tr>\n",
       "    <tr>\n",
       "      <th>8</th>\n",
       "      <td>At 11 AM tomorrow, 5th June will take part in ...</td>\n",
       "      <td>140</td>\n",
       "      <td>1400823203203719169</td>\n",
       "      <td>2021-06-04 14:34:12</td>\n",
       "      <td>Twitter Web App</td>\n",
       "      <td>40451</td>\n",
       "      <td>6062</td>\n",
       "    </tr>\n",
       "    <tr>\n",
       "      <th>9</th>\n",
       "      <td>I called @MauritiusPM Pravind Jugnauth to conv...</td>\n",
       "      <td>140</td>\n",
       "      <td>1400799942436872196</td>\n",
       "      <td>2021-06-04 13:01:46</td>\n",
       "      <td>Twitter for iPhone</td>\n",
       "      <td>27295</td>\n",
       "      <td>3729</td>\n",
       "    </tr>\n",
       "  </tbody>\n",
       "</table>\n",
       "</div>"
      ],
      "text/plain": [
       "                                              Tweets  Length  \\\n",
       "0  विकास और पर्यावरण में संतुलन हमारी पुरातन परंप...     137   \n",
       "1  जलवायु परिवर्तन के खतरे से निपटने के लिए जो वै...     140   \n",
       "2  आज से 7-8 साल पहले देश में इथेनॉल की कभी उतनी ...     140   \n",
       "3  हरदोई के अरविंद कुमार जी ने बताया कि वैज्ञानिक...     140   \n",
       "4  आणंद के अमित कुमार प्रजापति जी को बायोगैस प्ला...     126   \n",
       "5  पुणे के बालू नाथू वाघमारे जी ने बताया कि किस प...     139   \n",
       "6  Addressing a programme on #WorldEnvironmentDay...      92   \n",
       "7  Reviewed India's vaccination drive including t...     139   \n",
       "8  At 11 AM tomorrow, 5th June will take part in ...     140   \n",
       "9  I called @MauritiusPM Pravind Jugnauth to conv...     140   \n",
       "\n",
       "                    ID                Date                Source  Likes   RTs  \n",
       "0  1401099385824440322 2021-06-05 08:51:39  Twitter Media Studio  20571  4064  \n",
       "1  1401099327217356801 2021-06-05 08:51:25  Twitter Media Studio  13247  2997  \n",
       "2  1401099232501661700 2021-06-05 08:51:02  Twitter Media Studio  12702  2989  \n",
       "3  1401098876422025220 2021-06-05 08:49:37  Twitter Media Studio  12769  2919  \n",
       "4  1401098804250615809 2021-06-05 08:49:20  Twitter Media Studio   9641  2588  \n",
       "5  1401098674407542784 2021-06-05 08:48:49  Twitter Media Studio  14150  2969  \n",
       "6  1401053150841167874 2021-06-05 05:47:56  Twitter Media Studio  21869  4681  \n",
       "7  1400839416013275137 2021-06-04 15:38:37    Twitter for iPhone  35849  5411  \n",
       "8  1400823203203719169 2021-06-04 14:34:12       Twitter Web App  40451  6062  \n",
       "9  1400799942436872196 2021-06-04 13:01:46    Twitter for iPhone  27295  3729  "
      ]
     },
     "metadata": {},
     "output_type": "display_data"
    }
   ],
   "source": [
    "#Adding relevant data to Panda DataFrame \n",
    "data['Length']=np.array([len(tweet.text) for tweet in tweets])\n",
    "data['ID']=np.array([tweet.id for tweet in tweets])\n",
    "data['Date']=np.array([tweet.created_at for tweet in tweets])\n",
    "data['Source']=np.array([tweet.source for tweet in tweets])\n",
    "data['Likes']=np.array([tweet.favorite_count for tweet in tweets])\n",
    "data['RTs']=np.array([tweet.retweet_count for tweet in tweets])\n",
    "display(data.head(10))"
   ]
  },
  {
   "cell_type": "code",
   "execution_count": 19,
   "id": "4ef318ab",
   "metadata": {},
   "outputs": [
    {
     "name": "stdout",
     "output_type": "stream",
     "text": [
      "The Avaerage length of a tweet:  125.26215384615385\n"
     ]
    }
   ],
   "source": [
    "#Data Analysis \n",
    "mean=np.mean(data['Length'])\n",
    "print(f\"The Avaerage length of a tweet:  {mean}\")"
   ]
  },
  {
   "cell_type": "code",
   "execution_count": 21,
   "id": "f4092ef1",
   "metadata": {},
   "outputs": [
    {
     "name": "stdout",
     "output_type": "stream",
     "text": [
      "The most liked tweet is: Sushant Singh Rajput...a bright young actor gone too soon. He excelled on TV and in films. His rise in the world of… https://t.co/1SGDaJ0TjW\n",
      "Number of likes: 404862\n",
      "------------------\n",
      "\n",
      "The most Retweeted tweet is: राष्ट्ररक्षासमं पुण्यं,\n",
      "\n",
      "राष्ट्ररक्षासमं व्रतम्,\n",
      "\n",
      "राष्ट्ररक्षासमं यज्ञो,\n",
      "\n",
      "दृष्टो नैव च नैव च।।\n",
      "\n",
      "नभः स्पृशं दीप्तम्.… https://t.co/Fu0jpWheXv\n",
      "Number of Retweets: 54905\n",
      "------------------\n",
      "\n"
     ]
    }
   ],
   "source": [
    "#Most liked and retweeted tweets\n",
    "lik_max=np.max(data['Likes'])\n",
    "rt_max=np.max(data['RTs'])\n",
    "\n",
    "#Extract the index of max\n",
    "fav=data[data.Likes==lik_max].index[0]\n",
    "rt=data[data.RTs==rt_max].index[0]\n",
    "\n",
    "#Print the result\n",
    "print(f\"The most liked tweet is: {data['Tweets'][fav]}\")\n",
    "print(f\"Number of likes: {lik_max}\")\n",
    "print(\"------------------\")\n",
    "print()\n",
    "\n",
    "#Print the most retweeted tweet\n",
    "print(f\"The most Retweeted tweet is: {data['Tweets'][rt]}\")\n",
    "print(f\"Number of Retweets: {rt_max}\")\n",
    "print(\"------------------\")\n",
    "print()"
   ]
  },
  {
   "cell_type": "code",
   "execution_count": 22,
   "id": "001b7102",
   "metadata": {},
   "outputs": [],
   "source": [
    "#Plots \n",
    "like=pd.Series(data=data['Likes'].values, index=data['Date'])\n",
    "retweet=pd.Series(data=data['RTs'].values, index=data['Date'])"
   ]
  },
  {
   "cell_type": "code",
   "execution_count": 23,
   "id": "e8662981",
   "metadata": {},
   "outputs": [
    {
     "data": {
      "text/plain": [
       "<AxesSubplot:xlabel='Date'>"
      ]
     },
     "execution_count": 23,
     "metadata": {},
     "output_type": "execute_result"
    },
    {
     "data": {
      "image/png": "[encoded data removed]",
      "text/plain": [
       "<Figure size 1152x288 with 1 Axes>"
      ]
     },
     "metadata": {
      "needs_background": "light"
     },
     "output_type": "display_data"
    }
   ],
   "source": [
    "like.plot(figsize=(16,4), color='r')"
   ]
  },
  {
   "cell_type": "code",
   "execution_count": 24,
   "id": "f7e11c73",
   "metadata": {},
   "outputs": [
    {
     "data": {
      "text/plain": [
       "<AxesSubplot:xlabel='Date'>"
      ]
     },
     "execution_count": 24,
     "metadata": {},
     "output_type": "execute_result"
    },
    {
     "data": {
      "image/png": "[encoded data removed]",
      "text/plain": [
       "<Figure size 1152x288 with 1 Axes>"
      ]
     },
     "metadata": {
      "needs_background": "light"
     },
     "output_type": "display_data"
    }
   ],
   "source": [
    "retweet.plot(figsize=(16,4), color='r')"
   ]
  },
  {
   "cell_type": "code",
   "execution_count": 25,
   "id": "a1dd19c2",
   "metadata": {},
   "outputs": [
    {
     "data": {
      "text/plain": [
       "<AxesSubplot:xlabel='Date'>"
      ]
     },
     "execution_count": 25,
     "metadata": {},
     "output_type": "execute_result"
    },
    {
     "data": {
      "image/png": "[encoded data removed]",
      "text/plain": [
       "<Figure size 576x288 with 1 Axes>"
      ]
     },
     "metadata": {
      "needs_background": "light"
     },
     "output_type": "display_data"
    }
   ],
   "source": [
    "like.plot(figsize=(8,4), label=\"Likes\", legend=True)\n",
    "retweet.plot(figsize=(8,4), label=\"Retweets\", legend=True)"
   ]
  },
  {
   "cell_type": "code",
   "execution_count": 26,
   "id": "85ca4658",
   "metadata": {},
   "outputs": [
    {
     "data": {
      "text/plain": [
       "Tweets    False\n",
       "Length    False\n",
       "ID        False\n",
       "Date      False\n",
       "Source    False\n",
       "Likes     False\n",
       "RTs       False\n",
       "dtype: bool"
      ]
     },
     "execution_count": 26,
     "metadata": {},
     "output_type": "execute_result"
    }
   ],
   "source": [
    "#Before proceeding with any data analysis let's analyze whether we have null in dataset.\n",
    "#We got False, stating that we have no null in DataFrame\n",
    "data.isnull().any()"
   ]
  },
  {
   "cell_type": "code",
   "execution_count": 27,
   "id": "6f140098",
   "metadata": {},
   "outputs": [
    {
     "data": {
      "text/html": [
       "<div>\n",
       "<style scoped>\n",
       "    .dataframe tbody tr th:only-of-type {\n",
       "        vertical-align: middle;\n",
       "    }\n",
       "\n",
       "    .dataframe tbody tr th {\n",
       "        vertical-align: top;\n",
       "    }\n",
       "\n",
       "    .dataframe thead th {\n",
       "        text-align: right;\n",
       "    }\n",
       "</style>\n",
       "<table border=\"1\" class=\"dataframe\">\n",
       "  <thead>\n",
       "    <tr style=\"text-align: right;\">\n",
       "      <th></th>\n",
       "      <th>Length</th>\n",
       "      <th>ID</th>\n",
       "      <th>Likes</th>\n",
       "      <th>RTs</th>\n",
       "    </tr>\n",
       "  </thead>\n",
       "  <tbody>\n",
       "    <tr>\n",
       "      <th>count</th>\n",
       "      <td>3250.000000</td>\n",
       "      <td>3.250000e+03</td>\n",
       "      <td>3250.000000</td>\n",
       "      <td>3250.000000</td>\n",
       "    </tr>\n",
       "    <tr>\n",
       "      <th>mean</th>\n",
       "      <td>125.262154</td>\n",
       "      <td>1.332553e+18</td>\n",
       "      <td>31228.512000</td>\n",
       "      <td>4728.318769</td>\n",
       "    </tr>\n",
       "    <tr>\n",
       "      <th>std</th>\n",
       "      <td>27.066114</td>\n",
       "      <td>3.516200e+16</td>\n",
       "      <td>32524.472967</td>\n",
       "      <td>4440.591975</td>\n",
       "    </tr>\n",
       "    <tr>\n",
       "      <th>min</th>\n",
       "      <td>23.000000</td>\n",
       "      <td>1.263130e+18</td>\n",
       "      <td>0.000000</td>\n",
       "      <td>372.000000</td>\n",
       "    </tr>\n",
       "    <tr>\n",
       "      <th>25%</th>\n",
       "      <td>127.000000</td>\n",
       "      <td>1.306553e+18</td>\n",
       "      <td>12773.000000</td>\n",
       "      <td>2459.000000</td>\n",
       "    </tr>\n",
       "    <tr>\n",
       "      <th>50%</th>\n",
       "      <td>140.000000</td>\n",
       "      <td>1.329919e+18</td>\n",
       "      <td>21119.000000</td>\n",
       "      <td>3519.500000</td>\n",
       "    </tr>\n",
       "    <tr>\n",
       "      <th>75%</th>\n",
       "      <td>140.000000</td>\n",
       "      <td>1.362636e+18</td>\n",
       "      <td>37092.500000</td>\n",
       "      <td>5393.750000</td>\n",
       "    </tr>\n",
       "    <tr>\n",
       "      <th>max</th>\n",
       "      <td>148.000000</td>\n",
       "      <td>1.401099e+18</td>\n",
       "      <td>404862.000000</td>\n",
       "      <td>54905.000000</td>\n",
       "    </tr>\n",
       "  </tbody>\n",
       "</table>\n",
       "</div>"
      ],
      "text/plain": [
       "            Length            ID          Likes           RTs\n",
       "count  3250.000000  3.250000e+03    3250.000000   3250.000000\n",
       "mean    125.262154  1.332553e+18   31228.512000   4728.318769\n",
       "std      27.066114  3.516200e+16   32524.472967   4440.591975\n",
       "min      23.000000  1.263130e+18       0.000000    372.000000\n",
       "25%     127.000000  1.306553e+18   12773.000000   2459.000000\n",
       "50%     140.000000  1.329919e+18   21119.000000   3519.500000\n",
       "75%     140.000000  1.362636e+18   37092.500000   5393.750000\n",
       "max     148.000000  1.401099e+18  404862.000000  54905.000000"
      ]
     },
     "execution_count": 27,
     "metadata": {},
     "output_type": "execute_result"
    }
   ],
   "source": [
    "data.describe()"
   ]
  },
  {
   "cell_type": "code",
   "execution_count": 36,
   "id": "12bc2397",
   "metadata": {},
   "outputs": [
    {
     "name": "stdout",
     "output_type": "stream",
     "text": [
      "PM Modi has tweeted about Election 20 times.\n",
      "--------------------------------\n",
      "\n"
     ]
    },
    {
     "data": {
      "text/plain": [
       "142     Congratulations to Thiru @mkstalin and @arival...\n",
       "143     Gratitude to the people of Kerala who supporte...\n",
       "144     I would like to congratulate Shri @vijayanpina...\n",
       "161     Last phase of the 2021 West Bengal elections t...\n",
       "179     The seventh phase of the West Bengal elections...\n",
       "188     Addressing a virtual rally for the West Bengal...\n",
       "229     Urging all those voting in today’s fifth phase...\n",
       "289     As the 4th phase of the West Bengal elections ...\n",
       "360     Elections are taking place in Assam, Kerala, P...\n",
       "421     I’ve seen many elections but the 2021 Puducher...\n",
       "470     Today, Phase 1 of the West Bengal Assembly ele...\n",
       "471     The first phase of elections begin in Assam. U...\n",
       "512     Thank you Goa for the continuous support to BJ...\n",
       "769     Thank you Gujarat! \\n\\nResults of municipal el...\n",
       "1693    Congratulations to Daw Aung San Suu Kyi &amp; ...\n",
       "1809    Addressing an election rally in Saharsa. Here ...\n",
       "1923    Congratulations to the people of Seychelles fo...\n",
       "1924    Felicitations to H.E. @wavelramkalawan on his ...\n",
       "2964    Congratulations to Prime Minister @leehsienloo...\n",
       "3219    Spoke to PM Mahinda Rajapaksa today to greet h...\n",
       "Name: Tweets, dtype: object"
      ]
     },
     "execution_count": 36,
     "metadata": {},
     "output_type": "execute_result"
    }
   ],
   "source": [
    "#I'm curious how many times Modi talks about Elections. Let's see. \n",
    "swachh_count = data.Tweets[data.Tweets.str.contains('election', flags=re.IGNORECASE)].count() \n",
    "print(f\"PM Modi has tweeted about Election {swachh_count} times.\")\n",
    "print(\"--------------------------------\")\n",
    "print()\n",
    "data.Tweets[data.Tweets.str.contains('election', flags=re.IGNORECASE)]"
   ]
  },
  {
   "cell_type": "code",
   "execution_count": null,
   "id": "f5e5f8ca",
   "metadata": {},
   "outputs": [],
   "source": []
  }
 ],
 "metadata": {
  "kernelspec": {
   "display_name": "Python 3",
   "language": "python",
   "name": "python3"
  },
  "language_info": {
   "codemirror_mode": {
    "name": "ipython",
    "version": 3
   },
   "file_extension": ".py",
   "mimetype": "text/x-python",
   "name": "python",
   "nbconvert_exporter": "python",
   "pygments_lexer": "ipython3",
   "version": "3.8.8"
  }
 },
 "nbformat": 4,
 "nbformat_minor": 5
}
